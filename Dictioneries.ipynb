{
 "cells": [
  {
   "cell_type": "markdown",
   "id": "fd5d0fa5",
   "metadata": {},
   "source": [
    "Write a programme to read roll numbers and marks of four students and create dictionary from it having roll numbers as keys"
   ]
  },
  {
   "cell_type": "code",
   "execution_count": 3,
   "id": "a43dbe88",
   "metadata": {},
   "outputs": [
    {
     "name": "stdout",
     "output_type": "stream",
     "text": [
      "Roll No. and Marks are :  {1: 58, 2: 75, 3: 45, 4: 41, 5: 21, 6: 74, 7: 44, 8: 96, 9: 43, 10: 74}\n",
      "{1: 58, 2: 75, 3: 45, 4: 41, 5: 21, 6: 74, 7: 44, 8: 96, 9: 43, 10: 74}\n"
     ]
    }
   ],
   "source": [
    "rno=[]\n",
    "mks=[]\n",
    "for a in range(10):\n",
    "    r,m = eval(input(\"Enter Roll No. , Marks : \"))\n",
    "    rno.append(r)\n",
    "    mks.append(m)\n",
    "d = {rno[0]:mks[0],rno[1]:mks[1],rno[2]:mks[2],rno[3]:mks[3],rno[4]:mks[4],rno[5]:mks[5],rno[6]:mks[6],rno[7]:mks[7],rno[8]:mks[8],rno[9]:mks[9]}\n",
    "print(\"Roll No. and Marks are : \",d)\n",
    "print(d)"
   ]
  },
  {
   "cell_type": "markdown",
   "id": "253d6540",
   "metadata": {},
   "source": [
    "Write a programme to create a phone dictionary for all your friends and print each key value pair in separate lines"
   ]
  },
  {
   "cell_type": "code",
   "execution_count": 8,
   "id": "0fdb0561",
   "metadata": {},
   "outputs": [
    {
     "name": "stdout",
     "output_type": "stream",
     "text": [
      "Madhav : 54149892945\n",
      "Steven : 5189491964\n",
      "Aaman : 4569849664\n",
      "Rohan : 8949844684\n",
      "Ravi : 84849846654\n",
      "Rajat : 494945641654\n",
      "Jasmine : 9574554545\n",
      "Ashutosh : 74985465641\n",
      "Rahul : 798585446\n",
      "Narendra : 98491684984\n",
      "Arvind : 46549465419\n"
     ]
    }
   ],
   "source": [
    "pd = {\"Madhav\":54149892945,\"Steven\":5189491964,\"Aaman\":4569849664,\"Rohan\":8949844684,\"Ravi\":84849846654,\"Rajat\":494945641654,\n",
    "      \"Jasmine\":9574554545,\"Ashutosh\":74985465641,\"Rahul\":798585446,\"Narendra\":98491684984,\"Arvind\":46549465419}\n",
    "for name in pd:\n",
    "    print(name,\":\",pd[name])"
   ]
  },
  {
   "cell_type": "code",
   "execution_count": 9,
   "id": "f6ee8645",
   "metadata": {},
   "outputs": [
    {
     "data": {
      "text/plain": [
       "dict_keys([1, 2, 3, 4, 5, 6, 7, 8, 9, 10])"
      ]
     },
     "execution_count": 9,
     "metadata": {},
     "output_type": "execute_result"
    }
   ],
   "source": [
    "d.keys()"
   ]
  },
  {
   "cell_type": "code",
   "execution_count": 10,
   "id": "2cbe3fde",
   "metadata": {},
   "outputs": [
    {
     "data": {
      "text/plain": [
       "dict_values([58, 75, 45, 41, 21, 74, 44, 96, 43, 74])"
      ]
     },
     "execution_count": 10,
     "metadata": {},
     "output_type": "execute_result"
    }
   ],
   "source": [
    "d.values()"
   ]
  },
  {
   "cell_type": "code",
   "execution_count": 11,
   "id": "c6865547",
   "metadata": {},
   "outputs": [
    {
     "data": {
      "text/plain": [
       "[1, 2, 3, 4, 5, 6, 7, 8, 9, 10]"
      ]
     },
     "execution_count": 11,
     "metadata": {},
     "output_type": "execute_result"
    }
   ],
   "source": [
    "list(d.keys())"
   ]
  },
  {
   "cell_type": "code",
   "execution_count": 12,
   "id": "86ce5b2b",
   "metadata": {},
   "outputs": [
    {
     "data": {
      "text/plain": [
       "[58, 75, 45, 41, 21, 74, 44, 96, 43, 74]"
      ]
     },
     "execution_count": 12,
     "metadata": {},
     "output_type": "execute_result"
    }
   ],
   "source": [
    "list(d.values())"
   ]
  },
  {
   "cell_type": "markdown",
   "id": "66ca8b92",
   "metadata": {},
   "source": [
    "Write a program to create a dictionery namely numerals from following two lists . "
   ]
  },
  {
   "cell_type": "code",
   "execution_count": 15,
   "id": "d0dece9e",
   "metadata": {},
   "outputs": [
    {
     "name": "stdout",
     "output_type": "stream",
     "text": [
      "Given two lists are :  ['One', 'Two', 'Three', 'Four', 'Five', 'Six', 'Seven', 'Eight', 'Nine', 'Ten'] [1, 2, 3, 4, 5, 6, 7, 8, 9, 10]\n",
      "Dictionery created from these lists is : \n",
      "{'One': 1, 'Two': 2, 'Three': 3, 'Four': 4, 'Five': 5, 'Six': 6, 'Seven': 7, 'Eight': 8, 'Nine': 9, 'Ten': 10}\n"
     ]
    }
   ],
   "source": [
    "keys= ['One','Two','Three','Four','Five','Six','Seven','Eight','Nine','Ten']\n",
    "values= [1,2,3,4,5,6,7,8,9,10]\n",
    "Numerals = dict(zip(keys,values))\n",
    "print(\"Given two lists are : \",keys,values)\n",
    "print(\"Dictionery created from these lists is : \")\n",
    "print(Numerals)"
   ]
  },
  {
   "cell_type": "markdown",
   "id": "ef9ee663",
   "metadata": {},
   "source": [
    "Write a program to create a dictionery containing names of comptetition winner students as keys and number of their wins as values"
   ]
  },
  {
   "cell_type": "code",
   "execution_count": 2,
   "id": "faa9c894",
   "metadata": {},
   "outputs": [
    {
     "name": "stdout",
     "output_type": "stream",
     "text": [
      "Competetion winners are : \n",
      "{'Geershati': 10, 'Piyush': 5, 'Rohan': 3, 'Amit': 4, 'Farhan': 7, 'Jatin': 6, 'Chirag': 8, 'Mohit': 4, 'Manas': 6, 'Rishabh': 7}\n"
     ]
    }
   ],
   "source": [
    "n = int(input(\"How many students ? \"))\n",
    "CompWinners = {}\n",
    "for a in range(n):\n",
    "    key = input(\"Enter student name : \")\n",
    "    value = int(input(\"Number of competetions won : \"))\n",
    "    CompWinners[key] = value\n",
    "print(\"Competetion winners are : \")\n",
    "print(CompWinners)    "
   ]
  }
 ],
 "metadata": {
  "kernelspec": {
   "display_name": "base",
   "language": "python",
   "name": "python3"
  },
  "language_info": {
   "codemirror_mode": {
    "name": "ipython",
    "version": 3
   },
   "file_extension": ".py",
   "mimetype": "text/x-python",
   "name": "python",
   "nbconvert_exporter": "python",
   "pygments_lexer": "ipython3",
   "version": "3.12.9"
  }
 },
 "nbformat": 4,
 "nbformat_minor": 5
}
