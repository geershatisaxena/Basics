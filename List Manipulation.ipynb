{
 "cells": [
  {
   "cell_type": "markdown",
   "metadata": {},
   "source": [
    "**Program to print elements of a list in separate lines along with elemnt's both indexes positive and negative**\n"
   ]
  },
  {
   "cell_type": "code",
   "execution_count": 1,
   "metadata": {},
   "outputs": [
    {
     "name": "stdout",
     "output_type": "stream",
     "text": [
      "At indexes 0 and -9 element:  G\n",
      "At indexes 1 and -8 element:  E\n",
      "At indexes 2 and -7 element:  E\n",
      "At indexes 3 and -6 element:  R\n",
      "At indexes 4 and -5 element:  S\n",
      "At indexes 5 and -4 element:  H\n",
      "At indexes 6 and -3 element:  A\n",
      "At indexes 7 and -2 element:  T\n",
      "At indexes 8 and -1 element:  I\n"
     ]
    }
   ],
   "source": [
    "L=['G','E','E','R','S','H','A','T','I']\n",
    "length=len(L)\n",
    "for a in range(length):\n",
    "    print(\"At indexes\",a,\"and\",(a-length),\"element: \",L[a])"
   ]
  },
  {
   "cell_type": "markdown",
   "metadata": {},
   "source": [
    "**Extract to list slices out of given listof numbers display and print the sum of elements of first list slice which contains every other element of the list between indexes 5 to 15 .programme should also display the average of elements in seconds list slides that contains every 4th element of the list**"
   ]
  },
  {
   "cell_type": "code",
   "execution_count": 2,
   "metadata": {},
   "outputs": [
    {
     "name": "stdout",
     "output_type": "stream",
     "text": [
      "Slice 1\n",
      "6\n",
      "8\n",
      "10\n",
      "12\n",
      "14\n",
      "\n",
      "Sum of slice 1:  50\n",
      "Slice 2\n",
      "1591317\n",
      "Average of slice 2:  9.0\n"
     ]
    }
   ],
   "source": [
    "lst = [1,2,3,4,5,6,7,8,9,10,11,12,13,14,15,16,17,18,19,20]\n",
    "slc1 = lst[5:15:2]\n",
    "slc2 = lst[::4]\n",
    "sum = avg = 0\n",
    "print(\"Slice 1\")\n",
    "for a in slc1:\n",
    "    sum+=a\n",
    "    print(a)\n",
    "print()\n",
    "print(\"Sum of slice 1: \",sum)\n",
    "print(\"Slice 2\")\n",
    "sum = 0\n",
    "for a in slc2:\n",
    "    sum+=a\n",
    "    print(a,end='')\n",
    "print()\n",
    "avg = sum/len(slc2)\n",
    "print(\"Average of slice 2: \",avg)"
   ]
  },
  {
   "cell_type": "markdown",
   "metadata": {},
   "source": [
    "**To create a copy of a listin the lists copy add 10 to its first and last elements then display the lines**"
   ]
  },
  {
   "cell_type": "code",
   "execution_count": 4,
   "metadata": {},
   "outputs": [
    {
     "name": "stdout",
     "output_type": "stream",
     "text": [
      "Original list : [17, 24, 15, 30, 34, 27, 19, 22, 29, 31, 25, 20, 23, 26, 28, 21, 18, 16, 14, 13, 12, 11, 10, 9, 8, 7, 6, 5, 4, 3, 2, 1]\n",
      "Created copy of the list : [17, 24, 15, 30, 34, 27, 19, 22, 29, 31, 25, 20, 23, 26, 28, 21, 18, 16, 14, 13, 12, 11, 10, 9, 8, 7, 6, 5, 4, 3, 2, 1]\n",
      "Copy of the list after modification :  [27, 24, 15, 30, 34, 27, 19, 22, 29, 31, 25, 20, 23, 26, 28, 21, 18, 16, 14, 13, 12, 11, 10, 9, 8, 7, 6, 5, 4, 3, 2, 11]\n",
      "Original list :  [17, 24, 15, 30, 34, 27, 19, 22, 29, 31, 25, 20, 23, 26, 28, 21, 18, 16, 14, 13, 12, 11, 10, 9, 8, 7, 6, 5, 4, 3, 2, 1]\n"
     ]
    }
   ],
   "source": [
    "L1 = [17,24,15,30,34,27,19,22,29,31,25,20,23,26,28,21,18,16,14,13,12,11,10,9,8,7,6,5,4,3,2,1]\n",
    "L2 = L1.copy()\n",
    "print(\"Original list :\",L1)\n",
    "print(\"Created copy of the list :\",L2)\n",
    "L2[0]+=10\n",
    "L2[-1]+=10\n",
    "print(\"Copy of the list after modification : \",L2)\n",
    "print(\"Original list : \",L1)"
   ]
  },
  {
   "cell_type": "markdown",
   "metadata": {},
   "source": [
    " Append function"
   ]
  },
  {
   "cell_type": "code",
   "execution_count": 5,
   "metadata": {},
   "outputs": [
    {
     "data": {
      "text/plain": [
       "[1, 2, 3, 4, 5, 6, 7, 8, 9, 10, 52]"
      ]
     },
     "execution_count": 5,
     "metadata": {},
     "output_type": "execute_result"
    }
   ],
   "source": [
    "lst = [1,2,3,4,5,6,7,8,9,10]\n",
    "lst.append(52)\n",
    "lst"
   ]
  },
  {
   "cell_type": "code",
   "execution_count": 12,
   "metadata": {},
   "outputs": [
    {
     "name": "stdout",
     "output_type": "stream",
     "text": [
      "Existing list:  [2, 4, 5, 6]\n",
      "List after insertion:  [2, 4, 5, 6, 4]\n"
     ]
    }
   ],
   "source": [
    "myl = [2,4,5,6]\n",
    "print(\"Existing list: \",myl)\n",
    "n = eval(input(\"Enter list to insert : \"))\n",
    "if type(n)==type([]):\n",
    "    myl.extendend(n)\n",
    "elif type(n)==type(1):\n",
    "    myl.append(n)\n",
    "else:\n",
    "    print(\"Invalid input\")\n",
    "print(\"List after insertion: \",myl)\n"
   ]
  },
  {
   "cell_type": "markdown",
   "metadata": {},
   "source": [
    "# Sorting a list"
   ]
  },
  {
   "cell_type": "code",
   "execution_count": null,
   "metadata": {},
   "outputs": [],
   "source": []
  },
  {
   "cell_type": "code",
   "execution_count": null,
   "metadata": {},
   "outputs": [],
   "source": []
  }
 ],
 "metadata": {
  "kernelspec": {
   "display_name": "base",
   "language": "python",
   "name": "python3"
  },
  "language_info": {
   "codemirror_mode": {
    "name": "ipython",
    "version": 3
   },
   "file_extension": ".py",
   "mimetype": "text/x-python",
   "name": "python",
   "nbconvert_exporter": "python",
   "pygments_lexer": "ipython3",
   "version": "3.12.9"
  }
 },
 "nbformat": 4,
 "nbformat_minor": 2
}
