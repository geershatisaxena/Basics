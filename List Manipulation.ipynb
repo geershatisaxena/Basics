{
 "cells": [
  {
   "cell_type": "markdown",
   "metadata": {},
   "source": [
    "**Program to print elements of a list in separate lines along with elemnt's both indexes positive and negative**\n"
   ]
  },
  {
   "cell_type": "code",
   "execution_count": 1,
   "metadata": {},
   "outputs": [
    {
     "name": "stdout",
     "output_type": "stream",
     "text": [
      "At indexes 0 and -9 element:  G\n",
      "At indexes 1 and -8 element:  E\n",
      "At indexes 2 and -7 element:  E\n",
      "At indexes 3 and -6 element:  R\n",
      "At indexes 4 and -5 element:  S\n",
      "At indexes 5 and -4 element:  H\n",
      "At indexes 6 and -3 element:  A\n",
      "At indexes 7 and -2 element:  T\n",
      "At indexes 8 and -1 element:  I\n"
     ]
    }
   ],
   "source": [
    "L=['G','E','E','R','S','H','A','T','I']\n",
    "length=len(L)\n",
    "for a in range(length):\n",
    "    print(\"At indexes\",a,\"and\",(a-length),\"element: \",L[a])"
   ]
  },
  {
   "cell_type": "markdown",
   "metadata": {},
   "source": [
    "**Extract to list slices out of given listof numbers display and print the sum of elements of first list slice which contains every other element of the list between indexes 5 to 15 .programme should also display the average of elements in seconds list slides that contains every 4th element of the list**"
   ]
  },
  {
   "cell_type": "code",
   "execution_count": 2,
   "metadata": {},
   "outputs": [
    {
     "name": "stdout",
     "output_type": "stream",
     "text": [
      "Slice 1\n",
      "6\n",
      "8\n",
      "10\n",
      "12\n",
      "14\n",
      "\n",
      "Sum of slice 1:  50\n",
      "Slice 2\n",
      "1591317\n",
      "Average of slice 2:  9.0\n"
     ]
    }
   ],
   "source": [
    "lst = [1,2,3,4,5,6,7,8,9,10,11,12,13,14,15,16,17,18,19,20]\n",
    "slc1 = lst[5:15:2]\n",
    "slc2 = lst[::4]\n",
    "sum = avg = 0\n",
    "print(\"Slice 1\")\n",
    "for a in slc1:\n",
    "    sum+=a\n",
    "    print(a)\n",
    "print()\n",
    "print(\"Sum of slice 1: \",sum)\n",
    "print(\"Slice 2\")\n",
    "sum = 0\n",
    "for a in slc2:\n",
    "    sum+=a\n",
    "    print(a,end='')\n",
    "print()\n",
    "avg = sum/len(slc2)\n",
    "print(\"Average of slice 2: \",avg)"
   ]
  },
  {
   "cell_type": "markdown",
   "metadata": {},
   "source": [
    "**To create a copy of a listin the lists copy add 10 to its first and last elements then display the lines**"
   ]
  },
  {
   "cell_type": "code",
   "execution_count": 4,
   "metadata": {},
   "outputs": [
    {
     "name": "stdout",
     "output_type": "stream",
     "text": [
      "Original list : [17, 24, 15, 30, 34, 27, 19, 22, 29, 31, 25, 20, 23, 26, 28, 21, 18, 16, 14, 13, 12, 11, 10, 9, 8, 7, 6, 5, 4, 3, 2, 1]\n",
      "Created copy of the list : [17, 24, 15, 30, 34, 27, 19, 22, 29, 31, 25, 20, 23, 26, 28, 21, 18, 16, 14, 13, 12, 11, 10, 9, 8, 7, 6, 5, 4, 3, 2, 1]\n",
      "Copy of the list after modification :  [27, 24, 15, 30, 34, 27, 19, 22, 29, 31, 25, 20, 23, 26, 28, 21, 18, 16, 14, 13, 12, 11, 10, 9, 8, 7, 6, 5, 4, 3, 2, 11]\n",
      "Original list :  [17, 24, 15, 30, 34, 27, 19, 22, 29, 31, 25, 20, 23, 26, 28, 21, 18, 16, 14, 13, 12, 11, 10, 9, 8, 7, 6, 5, 4, 3, 2, 1]\n"
     ]
    }
   ],
   "source": [
    "L1 = [17,24,15,30,34,27,19,22,29,31,25,20,23,26,28,21,18,16,14,13,12,11,10,9,8,7,6,5,4,3,2,1]\n",
    "L2 = L1.copy()\n",
    "print(\"Original list :\",L1)\n",
    "print(\"Created copy of the list :\",L2)\n",
    "L2[0]+=10\n",
    "L2[-1]+=10\n",
    "print(\"Copy of the list after modification : \",L2)\n",
    "print(\"Original list : \",L1)"
   ]
  },
  {
   "cell_type": "markdown",
   "metadata": {},
   "source": [
    " Append function"
   ]
  },
  {
   "cell_type": "code",
   "execution_count": 5,
   "metadata": {},
   "outputs": [
    {
     "data": {
      "text/plain": [
       "[1, 2, 3, 4, 5, 6, 7, 8, 9, 10, 52]"
      ]
     },
     "execution_count": 5,
     "metadata": {},
     "output_type": "execute_result"
    }
   ],
   "source": [
    "lst = [1,2,3,4,5,6,7,8,9,10]\n",
    "lst.append(52)\n",
    "lst"
   ]
  },
  {
   "cell_type": "code",
   "execution_count": 12,
   "metadata": {},
   "outputs": [
    {
     "name": "stdout",
     "output_type": "stream",
     "text": [
      "Existing list:  [2, 4, 5, 6]\n",
      "List after insertion:  [2, 4, 5, 6, 4]\n"
     ]
    }
   ],
   "source": [
    "myl = [2,4,5,6]\n",
    "print(\"Existing list: \",myl)\n",
    "n = eval(input(\"Enter list to insert : \"))\n",
    "if type(n)==type([]):\n",
    "    myl.extendend(n)\n",
    "elif type(n)==type(1):\n",
    "    myl.append(n)\n",
    "else:\n",
    "    print(\"Invalid input\")\n",
    "print(\"List after insertion: \",myl)\n"
   ]
  },
  {
   "cell_type": "markdown",
   "metadata": {},
   "source": [
    "# Sorting a list"
   ]
  },
  {
   "cell_type": "code",
   "execution_count": null,
   "metadata": {},
   "outputs": [
    {
     "name": "stdout",
     "output_type": "stream",
     "text": [
      "Original list: (21, 45, 85, 96, 45, 75, 85, 56, 23, 45, 6641)\n",
      "Replicated list: (21, 45, 85, 96, 45, 75, 85, 56, 23, 45, 6641, 21, 45, 85, 96, 45, 75, 85, 56, 23, 45, 6641)\n",
      "Sorted list in ascending order: [21, 21, 23, 23, 45, 45, 45, 45, 45, 45, 56, 56, 75, 75, 85, 85, 85, 85, 96, 96, 6641, 6641]\n",
      "Sorted list in descending order: [6641, 6641, 96, 96, 85, 85, 85, 85, 75, 75, 56, 56, 45, 45, 45, 45, 45, 45, 23, 23, 21, 21]\n"
     ]
    }
   ],
   "source": [
    "val = eval(input(\"Enter a list: \"))\n",
    "print(\"Original list:\", val)\n",
    "val = val * 2\n",
    "print(\"Replicated list:\", val)\n",
    "ascending_list = sorted(val)\n",
    "print(\"Sorted list in ascending order:\", ascending_list)\n",
    "descending_list = sorted(val, reverse=True)\n",
    "print(\"Sorted list in descending order:\", descending_list)\n"
   ]
  },
  {
   "cell_type": "markdown",
   "metadata": {},
   "source": [
    "Program to calculate the mean of given number"
   ]
  },
  {
   "cell_type": "code",
   "execution_count": 4,
   "metadata": {},
   "outputs": [
    {
     "name": "stdout",
     "output_type": "stream",
     "text": [
      "Given list is :  (7, 23, -11, 55, 13.5, 20.05, -5.5, 65, 45, 12, 41, 52, 25, 36, 89, 65, 45)\n",
      "Mean of the list is :  33.94411764705882\n"
     ]
    }
   ],
   "source": [
    "lst = eval(input(\"Enter a list: \"))\n",
    "length = len(lst)\n",
    "mean = sum = 0 \n",
    "for i in range(0,length):\n",
    "    sum += lst[i]\n",
    "mean = sum/length\n",
    "print(\"Given list is : \", lst)\n",
    "print(\"Mean of the list is : \", mean)"
   ]
  },
  {
   "cell_type": "markdown",
   "metadata": {},
   "source": [
    "**Write a program to check if the maximum element of the list lies in the first half of the list or in the second half**"
   ]
  },
  {
   "cell_type": "code",
   "execution_count": 6,
   "metadata": {},
   "outputs": [
    {
     "name": "stdout",
     "output_type": "stream",
     "text": [
      "The maximum element 452 lies in the 1st half.\n"
     ]
    }
   ],
   "source": [
    "lst = eval(input(\"Enter a list: \"))\n",
    "ln = len(lst)\n",
    "mx = max(lst)\n",
    "ind = lst.index(mx)\n",
    "if ind <= (ln/2):\n",
    "    print(\"The maximum element\",mx,\"lies in the 1st half.\")\n",
    "else:\n",
    "    print(\"The maximum element\",mx,\"lies in the 2nd half.\")"
   ]
  },
  {
   "cell_type": "markdown",
   "metadata": {},
   "source": [
    "Programme to input to list display the maximum element from the elements of thelist combined along with index in its list"
   ]
  },
  {
   "cell_type": "code",
   "execution_count": 2,
   "metadata": {},
   "outputs": [
    {
     "name": "stdout",
     "output_type": "stream",
     "text": [
      "34 the maximum value is in the list2 at index 0\n"
     ]
    }
   ],
   "source": [
    "lst1 = eval(input(\"Enter 1st list: \"))\n",
    "lst2 = eval(input(\"Enter 2nd list: \"))\n",
    "mx1 = max(lst1)\n",
    "mx2 = max(lst2)\n",
    "if mx1 > mx2:\n",
    "    print(mx1,\"the maximum value is in the list1 at index\",lst1.index(mx1))\n",
    "else:\n",
    "    print(mx2,\"the maximum value is in the list2 at index\",lst2.index(mx2))"
   ]
  },
  {
   "cell_type": "markdown",
   "metadata": {},
   "source": [
    "Write a programme to find the largest / smallest value of assets in a given list of assets of a company"
   ]
  },
  {
   "cell_type": "code",
   "execution_count": 4,
   "metadata": {},
   "outputs": [
    {
     "name": "stdout",
     "output_type": "stream",
     "text": [
      "Original list :  (23, 41, 45, 58, 41, 75, 59, 46)\n",
      "Maximum element :  75\n",
      "Minimum element :  23\n"
     ]
    }
   ],
   "source": [
    "val = eval(input(\"Enter a list : \"))\n",
    "print(\"Original list : \",val)\n",
    "mx = max(val)\n",
    "mn = min(val)\n",
    "print(\"Maximum element : \",mx)\n",
    "print(\"Minimum element : \",mn)"
   ]
  },
  {
   "cell_type": "code",
   "execution_count": null,
   "metadata": {},
   "outputs": [],
   "source": []
  }
 ],
 "metadata": {
  "kernelspec": {
   "display_name": "base",
   "language": "python",
   "name": "python3"
  },
  "language_info": {
   "codemirror_mode": {
    "name": "ipython",
    "version": 3
   },
   "file_extension": ".py",
   "mimetype": "text/x-python",
   "name": "python",
   "nbconvert_exporter": "python",
   "pygments_lexer": "ipython3",
   "version": "3.12.9"
  }
 },
 "nbformat": 4,
 "nbformat_minor": 2
}
