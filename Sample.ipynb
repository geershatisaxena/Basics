{
 "cells": [
  {
   "cell_type": "code",
   "execution_count": 1,
   "metadata": {},
   "outputs": [
    {
     "data": {
      "text/plain": [
       "int"
      ]
     },
     "execution_count": 1,
     "metadata": {},
     "output_type": "execute_result"
    }
   ],
   "source": [
    "a = 10\n",
    "type(a)\n",
    "\n"
   ]
  },
  {
   "cell_type": "code",
   "execution_count": 2,
   "metadata": {},
   "outputs": [
    {
     "data": {
      "text/plain": [
       "float"
      ]
     },
     "execution_count": 2,
     "metadata": {},
     "output_type": "execute_result"
    }
   ],
   "source": [
    "a = 20.5\n",
    "type(a)\n",
    "\n"
   ]
  },
  {
   "cell_type": "code",
   "execution_count": 3,
   "metadata": {},
   "outputs": [
    {
     "data": {
      "text/plain": [
       "str"
      ]
     },
     "execution_count": 3,
     "metadata": {},
     "output_type": "execute_result"
    }
   ],
   "source": [
    "a = \"Hello\"\n",
    "type(a)"
   ]
  },
  {
   "cell_type": "markdown",
   "metadata": {},
   "source": [
    "Write a program to input a welcome message and print it"
   ]
  },
  {
   "cell_type": "code",
   "execution_count": 4,
   "metadata": {},
   "outputs": [
    {
     "name": "stdout",
     "output_type": "stream",
     "text": [
      "\n",
      "Hello Welcome to my python program.\n"
     ]
    }
   ],
   "source": [
    "message = input(\"Enter a welcome message: \")\n",
    "print()\n",
    "print(\"Hello\",message)"
   ]
  },
  {
   "cell_type": "markdown",
   "metadata": {},
   "source": [
    "Write a program to obtain three numbers and print their sum."
   ]
  },
  {
   "cell_type": "code",
   "execution_count": 7,
   "metadata": {},
   "outputs": [
    {
     "name": "stdout",
     "output_type": "stream",
     "text": [
      "Three numbers are :  54 63 45\n",
      "Sum is : 162\n"
     ]
    }
   ],
   "source": [
    "num1 = int(input(\"Enter first number: \"))\n",
    "num2 = int(input(\"Enter second number: \"))\n",
    "num3 = int(input(\"Enter third number: \"))\n",
    "Sum = num1 + num2 + num3\n",
    "print(\"Three numbers are : \", num1, num2, num3)\n",
    "print(\"Sum is :\", Sum)"
   ]
  },
  {
   "cell_type": "markdown",
   "metadata": {},
   "source": [
    "Program to obtain length and breadth of a recatangle and calculate its area."
   ]
  },
  {
   "cell_type": "code",
   "execution_count": 10,
   "metadata": {},
   "outputs": [
    {
     "name": "stdout",
     "output_type": "stream",
     "text": [
      "Rectangle specification\n",
      "Length :  45.0 Breadth : 12.3 Area :  553.5\n"
     ]
    }
   ],
   "source": [
    "length = float(input(\"Enter lengthof rectangle: \"))\n",
    "width = float(input(\"Enter width of rectangle: \"))\n",
    "area = length * width\n",
    "print(\"Rectangle specification\")\n",
    "print(\"Length : \", length,end =' ')\n",
    "print(\"Breadth :\", width,end =' ')\n",
    "print(\"Area : \", area)"
   ]
  },
  {
   "cell_type": "markdown",
   "metadata": {},
   "source": [
    "BMI Program "
   ]
  },
  {
   "cell_type": "code",
   "execution_count": 1,
   "metadata": {},
   "outputs": [
    {
     "name": "stdout",
     "output_type": "stream",
     "text": [
      "BMI is :  25.781249999999996\n"
     ]
    }
   ],
   "source": [
    "weight_in_kg = float(input(\"Enter weight in kg : \"))\n",
    "height_in_meter = float(input(\"Enter height in meter : \"))\n",
    "bmi = weight_in_kg / (height_in_meter ** 2)\n",
    "print(\"BMI is : \", bmi)"
   ]
  },
  {
   "cell_type": "markdown",
   "metadata": {},
   "source": [
    "Write a program to input a number and print its cube . "
   ]
  },
  {
   "cell_type": "code",
   "execution_count": 4,
   "metadata": {},
   "outputs": [
    {
     "name": "stdout",
     "output_type": "stream",
     "text": [
      "Number is :  54\n",
      "Cube is :  157464\n"
     ]
    }
   ],
   "source": [
    "num = int(input(\"Enter a number: \"))\n",
    "cube = num ** 3\n",
    "print(\"Number is : \", num)\n",
    "print(\"Cube is : \", cube)"
   ]
  },
  {
   "cell_type": "markdown",
   "metadata": {},
   "source": [
    "Write a program to input a values in kilometres and convert it into miles"
   ]
  },
  {
   "cell_type": "code",
   "execution_count": 5,
   "metadata": {},
   "outputs": [
    {
     "name": "stdout",
     "output_type": "stream",
     "text": [
      "Distance in km :  35\n",
      "Distance in miles :  21.747985\n"
     ]
    }
   ],
   "source": [
    "km = int(input(\"Enter distance in km: \"))\n",
    "miles = km * 0.621371\n",
    "print(\"Distance in km : \", km)\n",
    "print(\"Distance in miles : \", miles)"
   ]
  },
  {
   "cell_type": "markdown",
   "metadata": {},
   "source": [
    "Write a program to input a value in tonnes and convert it into quintals and kilograms."
   ]
  },
  {
   "cell_type": "code",
   "execution_count": 10,
   "metadata": {},
   "outputs": [
    {
     "name": "stdout",
     "output_type": "stream",
     "text": [
      "Weight in tonnes :  2.5\n",
      "Weight in quintals :  25.0\n",
      "Weight in kgs :  2500.0\n"
     ]
    }
   ],
   "source": [
    "tonnes = float(input(\"Enter weight in tonnes: \"))\n",
    "quintals = tonnes * 10\n",
    "kgs = quintals * 100\n",
    "print(\"Weight in tonnes : \", tonnes)\n",
    "print(\"Weight in quintals : \", quintals)\n",
    "print(\"Weight in kgs : \", kgs)"
   ]
  },
  {
   "cell_type": "markdown",
   "metadata": {},
   "source": [
    "Write a short poem"
   ]
  },
  {
   "cell_type": "code",
   "execution_count": 13,
   "metadata": {},
   "outputs": [
    {
     "name": "stdout",
     "output_type": "stream",
     "text": [
      "मानवता की खुली आंख के सबसे सुंदर सपने राम।मानवता की खुली आंख के सबसे सुंदर सपने राम।जिव्हा वीणा अर्थवती हो, गईं लगीं जब जपने राम।जिव्हा वीणा अर्थवती हो, गईं लगीं जब जपने राम।\n",
      "\n",
      "मात-पिता गुरुजन परिजन ने ,अपने-अपने देखे थे।मात-पिता गुरुजन परिजन ने ,अपने-अपने देखे थे। दुनिया भरने देखे अपने, अपने अपने अपने राम।दुनिया भरने देखे अपने, अपने अपने अपने राम। अपने अपने अपने अपने, अपने अपने अपने राम।\n",
      "\n",
      "सूरदास के रसिक शिरोमणि, मीरा के नटवर नागर।सूरदास के रसिक शिरोमणि, मीरा के नटवर नागर। वाल्मीकि तुलसी कंबन के,अपने अपने अपने राम।वाल्मीकि तुलसी कंबन के,अपने अपने अपने राम।अपने अपने अपने अपने, अपने अपने अपने राम।\n",
      "\n",
      "हाथ अगर जुड़ कर रहते हैं, तो प्रणाम बन जाते हैं।हाथ अगर जुड़ कर रहते हैं, तो प्रणाम बन जाते हैं। संकल्पों की पुण्य वेदी पर, सभी काम बन जाते हैं।संकल्पों की पुण्य वेदी पर, सभी काम बन जाते हैं।\n",
      "\n",
      "अगर आत्मा रहे निरंतर मन के मानस के संग में।अगर आत्मा रहे निरंतर मन के मानस के संग में। तो पर पीड़ा पीने वाले स्वयं राम बन जाते हैं।तो पर पीड़ा पीने वाले स्वयं राम बन जाते हैं।अपने अपने अपने अपने, अपने अपने अपने राम।\n",
      "\n",
      "जब जब घीरे अंधेरे गहरे,हमने तुम्हें पुकारा राम।जब जब घीरे अंधेरे गहरे,हमने तुम्हें पुकारा राम। एक तुम्हारे होने भर से, जग भर में उजियारा राम।एक तुम्हारे होने भर से, जग भर में उजियारा राम।\n",
      "\n",
      "धन दौलत कि या ताकत की, जिन पर लंका है उनके।धन दौलत कि या ताकत की, जिन पर लंका है उनके। होंगे लाख सहारे अपना, केवल एक सहारा राम।होंगे लाख सहारे अपना, केवल एक सहारा राम।अपने अपने अपने अपने, अपने अपने अपने राम।अपने अपने अपने अपने, अपने अपने अपने राम।\n"
     ]
    }
   ],
   "source": [
    "poem = (\"\"\"मानवता की खुली आंख के सबसे सुंदर सपने राम।मानवता की खुली आंख के सबसे सुंदर सपने राम।जिव्हा वीणा अर्थवती हो, गईं लगीं जब जपने राम।जिव्हा वीणा अर्थवती हो, गईं लगीं जब जपने राम।\n",
    "\n",
    "मात-पिता गुरुजन परिजन ने ,अपने-अपने देखे थे।मात-पिता गुरुजन परिजन ने ,अपने-अपने देखे थे। दुनिया भरने देखे अपने, अपने अपने अपने राम।दुनिया भरने देखे अपने, अपने अपने अपने राम। अपने अपने अपने अपने, अपने अपने अपने राम।\n",
    "\n",
    "सूरदास के रसिक शिरोमणि, मीरा के नटवर नागर।सूरदास के रसिक शिरोमणि, मीरा के नटवर नागर। वाल्मीकि तुलसी कंबन के,अपने अपने अपने राम।वाल्मीकि तुलसी कंबन के,अपने अपने अपने राम।अपने अपने अपने अपने, अपने अपने अपने राम।\n",
    "\n",
    "हाथ अगर जुड़ कर रहते हैं, तो प्रणाम बन जाते हैं।हाथ अगर जुड़ कर रहते हैं, तो प्रणाम बन जाते हैं। संकल्पों की पुण्य वेदी पर, सभी काम बन जाते हैं।संकल्पों की पुण्य वेदी पर, सभी काम बन जाते हैं।\n",
    "\n",
    "अगर आत्मा रहे निरंतर मन के मानस के संग में।अगर आत्मा रहे निरंतर मन के मानस के संग में। तो पर पीड़ा पीने वाले स्वयं राम बन जाते हैं।तो पर पीड़ा पीने वाले स्वयं राम बन जाते हैं।अपने अपने अपने अपने, अपने अपने अपने राम।\n",
    "\n",
    "जब जब घीरे अंधेरे गहरे,हमने तुम्हें पुकारा राम।जब जब घीरे अंधेरे गहरे,हमने तुम्हें पुकारा राम। एक तुम्हारे होने भर से, जग भर में उजियारा राम।एक तुम्हारे होने भर से, जग भर में उजियारा राम।\n",
    "\n",
    "धन दौलत कि या ताकत की, जिन पर लंका है उनके।धन दौलत कि या ताकत की, जिन पर लंका है उनके। होंगे लाख सहारे अपना, केवल एक सहारा राम।होंगे लाख सहारे अपना, केवल एक सहारा राम।अपने अपने अपने अपने, अपने अपने अपने राम।अपने अपने अपने अपने, अपने अपने अपने राम।\"\"\")\n",
    "\n",
    "print(poem)"
   ]
  },
  {
   "cell_type": "markdown",
   "metadata": {},
   "source": [
    "# Importing Maths"
   ]
  },
  {
   "cell_type": "code",
   "execution_count": 1,
   "metadata": {},
   "outputs": [],
   "source": [
    "import math"
   ]
  },
  {
   "cell_type": "code",
   "execution_count": 2,
   "metadata": {},
   "outputs": [
    {
     "name": "stdout",
     "output_type": "stream",
     "text": [
      "Radius of the sphere :  7.5 metres\n",
      "Area of the sphere :  176.71458676442586 units square\n",
      "Volume of the sphere :  5301.437602932776 units cube\n"
     ]
    }
   ],
   "source": [
    "r = 7.5 \n",
    "area = math.pi * r * r\n",
    "volume = 4 * math.pi * math.pow(r, 3)\n",
    "print(\"Radius of the sphere : \",r,\"metres\")\n",
    "print(\"Area of the sphere : \",area,\"units square\")\n",
    "print(\"Volume of the sphere : \",volume,\"units cube\")"
   ]
  },
  {
   "cell_type": "code",
   "execution_count": 3,
   "metadata": {},
   "outputs": [
    {
     "data": {
      "text/plain": [
       "False"
      ]
     },
     "execution_count": 3,
     "metadata": {},
     "output_type": "execute_result"
    }
   ],
   "source": [
    "5 < 5 or 10\n",
    "5 < 10 or 5\n",
    "5 < (10 or 5)\n",
    "5 < (5 or 10)"
   ]
  },
  {
   "cell_type": "code",
   "execution_count": 4,
   "metadata": {},
   "outputs": [
    {
     "data": {
      "text/plain": [
       "True"
      ]
     },
     "execution_count": 4,
     "metadata": {},
     "output_type": "execute_result"
    }
   ],
   "source": [
    "a = 5\n",
    "b = -3\n",
    "c = 25\n",
    "d = -10\n",
    "a+b+c>a+c-b*d\n",
    "str(a+b+c>a+c-b*d)=='true'\n",
    "len(str(a+b+c>a+c-b*d))==len(str(bool(1)))"
   ]
  },
  {
   "cell_type": "markdown",
   "metadata": {},
   "source": [
    "Program to read base/length width and height of the parallelogram and calculate its area and parameter"
   ]
  },
  {
   "cell_type": "code",
   "execution_count": 5,
   "metadata": {},
   "outputs": [
    {
     "name": "stdout",
     "output_type": "stream",
     "text": [
      "Area of parallelogram :  94.5 units square\n",
      "Perimeter of parallelogram :  37.0 units\n"
     ]
    }
   ],
   "source": [
    "b = float(input(\"Enter base/length of a parallelogram: \"))\n",
    "h = float(input(\"Enter height of a parallelogram: \"))\n",
    "w = float(input(\"Enter width of a parallelogram: \"))\n",
    "area = b * h\n",
    "perimeter = 2 * (b + w)\n",
    "print(\"Area of parallelogram : \",area,\"units square\")\n",
    "print(\"Perimeter of parallelogram : \",perimeter,\"units\")"
   ]
  },
  {
   "cell_type": "markdown",
   "metadata": {},
   "source": [
    "Calculate area of triangle using heron's formula"
   ]
  },
  {
   "cell_type": "code",
   "execution_count": 7,
   "metadata": {},
   "outputs": [
    {
     "name": "stdout",
     "output_type": "stream",
     "text": [
      "Sides of traingle :  17 23 30\n",
      "Area of traingle :  194.42222095223582 units square\n"
     ]
    }
   ],
   "source": [
    "a,b,c = 17,23,30\n",
    "s = (a+b+c)/2\n",
    "area = math.sqrt(s*(s-a)*(s-b)*(s-c))\n",
    "print(\"Sides of traingle : \",a,b,c)\n",
    "print(\"Area of traingle : \",area,\"units square\")"
   ]
  },
  {
   "cell_type": "markdown",
   "metadata": {},
   "source": [
    "Program to calculate the amount of payable if money has been lent on simple interest"
   ]
  },
  {
   "cell_type": "code",
   "execution_count": 10,
   "metadata": {},
   "outputs": [
    {
     "name": "stdout",
     "output_type": "stream",
     "text": [
      "Amount payable is : 2379044786883111.0\n"
     ]
    }
   ],
   "source": [
    "P = float(input(\"Enter principal amount: \"))\n",
    "R = float(input(\"Enter rate of interest: \"))\n",
    "T = float(input(\"Enter time in years: \"))\n",
    "SI = (P * R * T) / 100\n",
    "amount_payable = P + SI\n",
    "print(\"Amount payable is :\", amount_payable)"
   ]
  },
  {
   "cell_type": "markdown",
   "metadata": {},
   "source": [
    "Write a program to calculate future value of given information. "
   ]
  },
  {
   "cell_type": "code",
   "execution_count": 11,
   "metadata": {},
   "outputs": [
    {
     "name": "stdout",
     "output_type": "stream",
     "text": [
      "Present value is :  100000\n",
      "Rate of interest is : 5.0 % per month\n",
      "Nature of periods : 12\n",
      "Future value is :  179585.632602213\n"
     ]
    }
   ],
   "source": [
    "PV = 100000\n",
    "r = 5/100\n",
    "n = 12\n",
    "FV = PV * ((1 + r) ** n)\n",
    "print(\"Present value is : \", PV)\n",
    "print(\"Rate of interest is :\",(r*100),\"% per month\")\n",
    "print(\"Nature of periods :\",n)\n",
    "print(\"Future value is : \", FV)"
   ]
  },
  {
   "cell_type": "markdown",
   "metadata": {},
   "source": [
    "Write a program to calculate the perimeter of a traingle"
   ]
  },
  {
   "cell_type": "code",
   "execution_count": 12,
   "metadata": {},
   "outputs": [
    {
     "name": "stdout",
     "output_type": "stream",
     "text": [
      "Perimeter of triangle :  18.0 units\n"
     ]
    }
   ],
   "source": [
    "s1 = float(input(\"Enter side 1 of triangle: \"))\n",
    "s2 = float(input(\"Enter side 2 of triangle: \"))\n",
    "s3 = float(input(\"Enter side 3 of triangle: \"))\n",
    "s = s1 + s2 + s3\n",
    "print(\"Perimeter of triangle : \", s, \"units\")"
   ]
  },
  {
   "cell_type": "markdown",
   "metadata": {},
   "source": [
    "Program to find the sale price of an item with given price and discount(%)"
   ]
  },
  {
   "cell_type": "code",
   "execution_count": 14,
   "metadata": {},
   "outputs": [
    {
     "name": "stdout",
     "output_type": "stream",
     "text": [
      "Cost price of item :  45812.0\n",
      "Discount price :  5497.44\n",
      "Selling price of item :  40314.56\n"
     ]
    }
   ],
   "source": [
    "price = float(input(\"Enter price of item: \"))\n",
    "dp = float(input(\"Enter discount percentage: \"))\n",
    "discount = (price * dp) / 100\n",
    "sp = price - discount\n",
    "print(\"Cost price of item : \", price)\n",
    "print(\"Discount price : \", discount)\n",
    "print(\"Selling price of item : \", sp)\n"
   ]
  },
  {
   "cell_type": "markdown",
   "metadata": {},
   "source": [
    "Program to find compound and simple interest "
   ]
  },
  {
   "cell_type": "code",
   "execution_count": 18,
   "metadata": {},
   "outputs": [
    {
     "name": "stdout",
     "output_type": "stream",
     "text": [
      "Compound interest is :  3246.4000000000015\n",
      "Simple interest is :  3000.0\n"
     ]
    }
   ],
   "source": [
    "prin = float(input(\"Enter principal amount: \"))\n",
    "rate = float(input(\"Enter rate of interest: \"))\n",
    "time = float(input(\"Enter time in years: \"))\n",
    "interest = (prin * rate * time) / 100\n",
    "\n",
    "amt = prin * (math.pow((1 + rate / 100), time))\n",
    "ci = amt - prin\n",
    "print(\"Compound interest is : \", ci)\n",
    "print(\"Simple interest is : \", interest)"
   ]
  },
  {
   "cell_type": "markdown",
   "metadata": {},
   "source": [
    " To find the number is even or odd"
   ]
  },
  {
   "cell_type": "code",
   "execution_count": 1,
   "metadata": {},
   "outputs": [
    {
     "name": "stdout",
     "output_type": "stream",
     "text": [
      "54 is even\n"
     ]
    }
   ],
   "source": [
    "num = int(input(\"Enter a number: \"))\n",
    "if num % 2 == 0:\n",
    "    print(num, \"is even\")\n",
    "else:\n",
    "    print(num, \"is odd\")"
   ]
  },
  {
   "cell_type": "code",
   "execution_count": 2,
   "metadata": {},
   "outputs": [
    {
     "name": "stdout",
     "output_type": "stream",
     "text": [
      "59 is odd\n"
     ]
    }
   ],
   "source": [
    "num = int(input(\"Enter a number: \"))\n",
    "if num % 2 == 0:\n",
    "    print(num, \"is even\")\n",
    "else:\n",
    "    print(num, \"is odd\")"
   ]
  },
  {
   "cell_type": "markdown",
   "metadata": {},
   "source": [
    "Program to accept three integers and print the largest of the three using **if** statemnt only"
   ]
  },
  {
   "cell_type": "code",
   "execution_count": 4,
   "metadata": {},
   "outputs": [
    {
     "name": "stdout",
     "output_type": "stream",
     "text": [
      "Maximum number is :  74.0\n"
     ]
    }
   ],
   "source": [
    "x = y = z = 0\n",
    "x = float(input(\"Enter  first number :\"))\n",
    "y = float(input(\"Enter  second number :\"))\n",
    "z = float(input(\"Enter  third number :\"))\n",
    "max  = x\n",
    "if y > max:\n",
    "    max = y\n",
    "if z > max:\n",
    "    max = z\n",
    "print(\"Maximum number is : \", max)"
   ]
  },
  {
   "cell_type": "markdown",
   "metadata": {},
   "source": [
    "Program to test the divisibility of a number with another number ."
   ]
  },
  {
   "cell_type": "code",
   "execution_count": 5,
   "metadata": {},
   "outputs": [
    {
     "name": "stdout",
     "output_type": "stream",
     "text": [
      "119 is not divisible by 3\n"
     ]
    }
   ],
   "source": [
    "n1 = int(input(\"Enter first number: \"))\n",
    "n2 = int(input(\"Enter second number: \"))\n",
    "remainder = n1 % n2\n",
    "if remainder == 0:\n",
    "    print(n1, \"is divisible by\", n2)\n",
    "else:\n",
    "    print(n1, \"is not divisible by\", n2)"
   ]
  },
  {
   "cell_type": "code",
   "execution_count": 6,
   "metadata": {},
   "outputs": [
    {
     "name": "stdout",
     "output_type": "stream",
     "text": [
      "8 is divisible by 2\n"
     ]
    }
   ],
   "source": [
    "n1 = int(input(\"Enter first number: \"))\n",
    "n2 = int(input(\"Enter second number: \"))\n",
    "remainder = n1 % n2\n",
    "if remainder == 0:\n",
    "    print(n1, \"is divisible by\", n2)\n",
    "else:\n",
    "    print(n1, \"is not divisible by\", n2)"
   ]
  },
  {
   "cell_type": "markdown",
   "metadata": {},
   "source": [
    "Program to find the multiple of a number (the divisor) out of the given number ."
   ]
  },
  {
   "cell_type": "code",
   "execution_count": null,
   "metadata": {},
   "outputs": [
    {
     "name": "stdout",
     "output_type": "stream",
     "text": [
      "Enter five numbers below\n",
      "Multiples of 15 are:\n",
      "3450\n",
      "\n",
      "Total multiples of 15 are: 1\n"
     ]
    }
   ],
   "source": [
    "print(\"Enter five numbers below\")\n",
    "n1 = int(input(\"Enter first number: \"))\n",
    "n2 = int(input(\"Enter second number: \"))\n",
    "n3 = int(input(\"Enter third number: \"))\n",
    "n4 = int(input(\"Enter fourth number: \"))\n",
    "n5 = int(input(\"Enter fifth number: \"))\n",
    "divisor = int(input(\"Enter divisor: \"))\n",
    "count = 0\n",
    "print(\"Multiples of\", divisor, \"are:\")\n",
    "remainder = n1 % divisor\n",
    "if remainder == 0:\n",
    "    print(n1,sep=\" \")\n",
    "    count += 1\n",
    "remainder = n2 % divisor\n",
    "if remainder == 0:\n",
    "    print(n2,sep=\" \")\n",
    "    count += 1\n",
    "remainder = n3 % divisor\n",
    "if remainder == 0:\n",
    "    print(n3,sep=\" \")\n",
    "    count += 1\n",
    "remainder = n4 % divisor\n",
    "if remainder == 0:\n",
    "    print(n4,sep=\" \")\n",
    "    count += 1\n",
    "remainder = n5 % divisor\n",
    "if remainder == 0:\n",
    "    print(n5,sep=\" \")\n",
    "    count += 1\n",
    "print()\n",
    "print(\"Total multiples of\", divisor, \"are:\", count)"
   ]
  },
  {
   "cell_type": "markdown",
   "metadata": {},
   "source": [
    "Program to display a menu for calculating area of a circle or perimeter of a circle ."
   ]
  },
  {
   "cell_type": "code",
   "execution_count": 10,
   "metadata": {},
   "outputs": [
    {
     "name": "stdout",
     "output_type": "stream",
     "text": [
      "1. Calulate Area\n",
      "2. Calculate Circumference\n",
      "Area of circle with radius is :  63.0 is 12468.97071\n"
     ]
    }
   ],
   "source": [
    "radius  = float(input(\"Enter radius of circle: \"))\n",
    "print(\"1. Calulate Area\")\n",
    "print(\"2. Calculate Circumference\")\n",
    "choice = int(input(\"Enter your choice: \"))\n",
    "if choice == 1:\n",
    "    area = 3.14159 * radius * radius\n",
    "    print(\"Area of circle with radius is : \",radius,\"is\", area)\n",
    "else:\n",
    "    perm = 2*3.14159 * radius\n",
    "    print(\"Circumference of circle with radius is : \",radius,\"is\", perm)"
   ]
  },
  {
   "cell_type": "code",
   "execution_count": 11,
   "metadata": {},
   "outputs": [
    {
     "name": "stdout",
     "output_type": "stream",
     "text": [
      "1. Calulate Area\n",
      "2. Calculate Circumference\n",
      "Circumference of circle with radius is :  63.0 is 395.84033999999997\n"
     ]
    }
   ],
   "source": [
    "radius  = float(input(\"Enter radius of circle: \"))\n",
    "print(\"1. Calulate Area\")\n",
    "print(\"2. Calculate Circumference\")\n",
    "choice = int(input(\"Enter your choice: \"))\n",
    "if choice == 1:\n",
    "    area = 3.14159 * radius * radius\n",
    "    print(\"Area of circle with radius is : \",radius,\"is\", area)\n",
    "else:\n",
    "    perm = 2*3.14159 * radius\n",
    "    print(\"Circumference of circle with radius is : \",radius,\"is\", perm)"
   ]
  },
  {
   "cell_type": "markdown",
   "metadata": {},
   "source": [
    "Program to print table of 19"
   ]
  },
  {
   "cell_type": "code",
   "execution_count": 14,
   "metadata": {},
   "outputs": [
    {
     "name": "stdout",
     "output_type": "stream",
     "text": [
      "19 x 1 = 19\n",
      "19 x 2 = 38\n",
      "19 x 3 = 57\n",
      "19 x 4 = 76\n",
      "19 x 5 = 95\n",
      "19 x 6 = 114\n",
      "19 x 7 = 133\n",
      "19 x 8 = 152\n",
      "19 x 9 = 171\n",
      "19 x 10 = 190\n"
     ]
    }
   ],
   "source": [
    "a = int(input(\"Enter first number: \"))\n",
    "for i in range(1, 11):\n",
    "    print(a, \"x\", i, \"=\", a*i)"
   ]
  },
  {
   "cell_type": "markdown",
   "metadata": {},
   "source": [
    "Program to print sum of natural numbers"
   ]
  },
  {
   "cell_type": "code",
   "execution_count": 17,
   "metadata": {},
   "outputs": [
    {
     "name": "stdout",
     "output_type": "stream",
     "text": [
      "Sum of first 100 natural numbers 100 is : 5050\n"
     ]
    }
   ],
   "source": [
    "sum = 0\n",
    "for n in range(1,101):\n",
    "    sum += n\n",
    "print(\"Sum of first 100 natural numbers\",n,\"is :\", sum)"
   ]
  },
  {
   "cell_type": "markdown",
   "metadata": {},
   "source": [
    "Program to print sum of natural numbers between"
   ]
  },
  {
   "cell_type": "code",
   "execution_count": 18,
   "metadata": {},
   "outputs": [
    {
     "name": "stdout",
     "output_type": "stream",
     "text": [
      "Sum of first 100 natural numbers 100 is : 5050\n"
     ]
    }
   ],
   "source": [
    "sum = 0\n",
    "for n in range(1,101):\n",
    "    sum += n\n",
    "print(\"Sum of first 100 natural numbers\",n,\"is :\", sum)"
   ]
  },
  {
   "cell_type": "markdown",
   "metadata": {},
   "source": [
    "Program to illustrate nested loops"
   ]
  },
  {
   "cell_type": "code",
   "execution_count": 23,
   "metadata": {},
   "outputs": [
    {
     "name": "stdout",
     "output_type": "stream",
     "text": [
      "*\n",
      "* *\n",
      "* * *\n",
      "* * * *\n",
      "* * * * *\n",
      "* * * * * *\n",
      "* * * * * * *\n",
      "* * * * * * * *\n",
      "* * * * * * * * *\n",
      "* * * * * * * * * *\n",
      "* * * * * * * * * * *\n",
      "* * * * * * * * * * * *\n",
      "* * * * * * * * * * * * *\n",
      "* * * * * * * * * * * * * *\n",
      "* * * * * * * * * * * * * * *\n",
      "* * * * * * * * * * * * * * * *\n",
      "* * * * * * * * * * * * * * * * *\n",
      "* * * * * * * * * * * * * * * * * *\n",
      "* * * * * * * * * * * * * * * * * * *\n",
      "* * * * * * * * * * * * * * * * * * * *\n"
     ]
    }
   ],
   "source": [
    "for i in range(1,21):\n",
    "    for j in range(1,i):\n",
    "        print(\"*\",end=\" \")\n",
    "    print(\"*\")"
   ]
  },
  {
   "cell_type": "markdown",
   "metadata": {},
   "source": [
    "Nested for loop"
   ]
  },
  {
   "cell_type": "code",
   "execution_count": 24,
   "metadata": {},
   "outputs": [
    {
     "name": "stdout",
     "output_type": "stream",
     "text": [
      "5 1\n",
      "5 3\n",
      "9 1\n",
      "9 3\n",
      "9 5\n",
      "9 7\n"
     ]
    }
   ],
   "source": [
    "for outer in range(5,10,4):\n",
    "    for inner in range(1,outer,2):\n",
    "        print(outer,inner)"
   ]
  }
 ],
 "metadata": {
  "kernelspec": {
   "display_name": "base",
   "language": "python",
   "name": "python3"
  },
  "language_info": {
   "codemirror_mode": {
    "name": "ipython",
    "version": 3
   },
   "file_extension": ".py",
   "mimetype": "text/x-python",
   "name": "python",
   "nbconvert_exporter": "python",
   "pygments_lexer": "ipython3",
   "version": "3.12.9"
  }
 },
 "nbformat": 4,
 "nbformat_minor": 2
}
