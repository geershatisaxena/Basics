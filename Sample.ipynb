{
 "cells": [
  {
   "cell_type": "code",
   "execution_count": 1,
   "metadata": {},
   "outputs": [
    {
     "data": {
      "text/plain": [
       "int"
      ]
     },
     "execution_count": 1,
     "metadata": {},
     "output_type": "execute_result"
    }
   ],
   "source": [
    "a = 10\n",
    "type(a)\n",
    "\n"
   ]
  },
  {
   "cell_type": "code",
   "execution_count": 2,
   "metadata": {},
   "outputs": [
    {
     "data": {
      "text/plain": [
       "float"
      ]
     },
     "execution_count": 2,
     "metadata": {},
     "output_type": "execute_result"
    }
   ],
   "source": [
    "a = 20.5\n",
    "type(a)\n",
    "\n"
   ]
  },
  {
   "cell_type": "code",
   "execution_count": 3,
   "metadata": {},
   "outputs": [
    {
     "data": {
      "text/plain": [
       "str"
      ]
     },
     "execution_count": 3,
     "metadata": {},
     "output_type": "execute_result"
    }
   ],
   "source": [
    "a = \"Hello\"\n",
    "type(a)"
   ]
  },
  {
   "cell_type": "markdown",
   "metadata": {},
   "source": [
    "Write a program to input a welcome message and print it"
   ]
  },
  {
   "cell_type": "code",
   "execution_count": 4,
   "metadata": {},
   "outputs": [
    {
     "name": "stdout",
     "output_type": "stream",
     "text": [
      "\n",
      "Hello Welcome to my python program.\n"
     ]
    }
   ],
   "source": [
    "message = input(\"Enter a welcome message: \")\n",
    "print()\n",
    "print(\"Hello\",message)"
   ]
  },
  {
   "cell_type": "markdown",
   "metadata": {},
   "source": [
    "Write a program to obtain three numbers and print their sum."
   ]
  },
  {
   "cell_type": "code",
   "execution_count": 7,
   "metadata": {},
   "outputs": [
    {
     "name": "stdout",
     "output_type": "stream",
     "text": [
      "Three numbers are :  54 63 45\n",
      "Sum is : 162\n"
     ]
    }
   ],
   "source": [
    "num1 = int(input(\"Enter first number: \"))\n",
    "num2 = int(input(\"Enter second number: \"))\n",
    "num3 = int(input(\"Enter third number: \"))\n",
    "Sum = num1 + num2 + num3\n",
    "print(\"Three numbers are : \", num1, num2, num3)\n",
    "print(\"Sum is :\", Sum)"
   ]
  },
  {
   "cell_type": "markdown",
   "metadata": {},
   "source": [
    "Program to obtain length and breadth of a recatangle and calculate its area."
   ]
  },
  {
   "cell_type": "code",
   "execution_count": 10,
   "metadata": {},
   "outputs": [
    {
     "name": "stdout",
     "output_type": "stream",
     "text": [
      "Rectangle specification\n",
      "Length :  45.0 Breadth : 12.3 Area :  553.5\n"
     ]
    }
   ],
   "source": [
    "length = float(input(\"Enter lengthof rectangle: \"))\n",
    "width = float(input(\"Enter width of rectangle: \"))\n",
    "area = length * width\n",
    "print(\"Rectangle specification\")\n",
    "print(\"Length : \", length,end =' ')\n",
    "print(\"Breadth :\", width,end =' ')\n",
    "print(\"Area : \", area)"
   ]
  },
  {
   "cell_type": "markdown",
   "metadata": {},
   "source": [
    "BMI Program "
   ]
  },
  {
   "cell_type": "code",
   "execution_count": 1,
   "metadata": {},
   "outputs": [
    {
     "name": "stdout",
     "output_type": "stream",
     "text": [
      "BMI is :  25.781249999999996\n"
     ]
    }
   ],
   "source": [
    "weight_in_kg = float(input(\"Enter weight in kg : \"))\n",
    "height_in_meter = float(input(\"Enter height in meter : \"))\n",
    "bmi = weight_in_kg / (height_in_meter ** 2)\n",
    "print(\"BMI is : \", bmi)"
   ]
  },
  {
   "cell_type": "markdown",
   "metadata": {},
   "source": [
    "Write a program to input a number and print its cube . "
   ]
  },
  {
   "cell_type": "code",
   "execution_count": 4,
   "metadata": {},
   "outputs": [
    {
     "name": "stdout",
     "output_type": "stream",
     "text": [
      "Number is :  54\n",
      "Cube is :  157464\n"
     ]
    }
   ],
   "source": [
    "num = int(input(\"Enter a number: \"))\n",
    "cube = num ** 3\n",
    "print(\"Number is : \", num)\n",
    "print(\"Cube is : \", cube)"
   ]
  },
  {
   "cell_type": "markdown",
   "metadata": {},
   "source": [
    "Write a program to input a values in kilometres and convert it into miles"
   ]
  },
  {
   "cell_type": "code",
   "execution_count": 5,
   "metadata": {},
   "outputs": [
    {
     "name": "stdout",
     "output_type": "stream",
     "text": [
      "Distance in km :  35\n",
      "Distance in miles :  21.747985\n"
     ]
    }
   ],
   "source": [
    "km = int(input(\"Enter distance in km: \"))\n",
    "miles = km * 0.621371\n",
    "print(\"Distance in km : \", km)\n",
    "print(\"Distance in miles : \", miles)"
   ]
  },
  {
   "cell_type": "markdown",
   "metadata": {},
   "source": [
    "Write a program to input a value in tonnes and convert it into quintals and kilograms."
   ]
  },
  {
   "cell_type": "code",
   "execution_count": 10,
   "metadata": {},
   "outputs": [
    {
     "name": "stdout",
     "output_type": "stream",
     "text": [
      "Weight in tonnes :  2.5\n",
      "Weight in quintals :  25.0\n",
      "Weight in kgs :  2500.0\n"
     ]
    }
   ],
   "source": [
    "tonnes = float(input(\"Enter weight in tonnes: \"))\n",
    "quintals = tonnes * 10\n",
    "kgs = quintals * 100\n",
    "print(\"Weight in tonnes : \", tonnes)\n",
    "print(\"Weight in quintals : \", quintals)\n",
    "print(\"Weight in kgs : \", kgs)"
   ]
  },
  {
   "cell_type": "markdown",
   "metadata": {},
   "source": [
    "Write a short poem"
   ]
  },
  {
   "cell_type": "code",
   "execution_count": 13,
   "metadata": {},
   "outputs": [
    {
     "name": "stdout",
     "output_type": "stream",
     "text": [
      "मानवता की खुली आंख के सबसे सुंदर सपने राम।मानवता की खुली आंख के सबसे सुंदर सपने राम।जिव्हा वीणा अर्थवती हो, गईं लगीं जब जपने राम।जिव्हा वीणा अर्थवती हो, गईं लगीं जब जपने राम।\n",
      "\n",
      "मात-पिता गुरुजन परिजन ने ,अपने-अपने देखे थे।मात-पिता गुरुजन परिजन ने ,अपने-अपने देखे थे। दुनिया भरने देखे अपने, अपने अपने अपने राम।दुनिया भरने देखे अपने, अपने अपने अपने राम। अपने अपने अपने अपने, अपने अपने अपने राम।\n",
      "\n",
      "सूरदास के रसिक शिरोमणि, मीरा के नटवर नागर।सूरदास के रसिक शिरोमणि, मीरा के नटवर नागर। वाल्मीकि तुलसी कंबन के,अपने अपने अपने राम।वाल्मीकि तुलसी कंबन के,अपने अपने अपने राम।अपने अपने अपने अपने, अपने अपने अपने राम।\n",
      "\n",
      "हाथ अगर जुड़ कर रहते हैं, तो प्रणाम बन जाते हैं।हाथ अगर जुड़ कर रहते हैं, तो प्रणाम बन जाते हैं। संकल्पों की पुण्य वेदी पर, सभी काम बन जाते हैं।संकल्पों की पुण्य वेदी पर, सभी काम बन जाते हैं।\n",
      "\n",
      "अगर आत्मा रहे निरंतर मन के मानस के संग में।अगर आत्मा रहे निरंतर मन के मानस के संग में। तो पर पीड़ा पीने वाले स्वयं राम बन जाते हैं।तो पर पीड़ा पीने वाले स्वयं राम बन जाते हैं।अपने अपने अपने अपने, अपने अपने अपने राम।\n",
      "\n",
      "जब जब घीरे अंधेरे गहरे,हमने तुम्हें पुकारा राम।जब जब घीरे अंधेरे गहरे,हमने तुम्हें पुकारा राम। एक तुम्हारे होने भर से, जग भर में उजियारा राम।एक तुम्हारे होने भर से, जग भर में उजियारा राम।\n",
      "\n",
      "धन दौलत कि या ताकत की, जिन पर लंका है उनके।धन दौलत कि या ताकत की, जिन पर लंका है उनके। होंगे लाख सहारे अपना, केवल एक सहारा राम।होंगे लाख सहारे अपना, केवल एक सहारा राम।अपने अपने अपने अपने, अपने अपने अपने राम।अपने अपने अपने अपने, अपने अपने अपने राम।\n"
     ]
    }
   ],
   "source": [
    "poem = (\"\"\"मानवता की खुली आंख के सबसे सुंदर सपने राम।मानवता की खुली आंख के सबसे सुंदर सपने राम।जिव्हा वीणा अर्थवती हो, गईं लगीं जब जपने राम।जिव्हा वीणा अर्थवती हो, गईं लगीं जब जपने राम।\n",
    "\n",
    "मात-पिता गुरुजन परिजन ने ,अपने-अपने देखे थे।मात-पिता गुरुजन परिजन ने ,अपने-अपने देखे थे। दुनिया भरने देखे अपने, अपने अपने अपने राम।दुनिया भरने देखे अपने, अपने अपने अपने राम। अपने अपने अपने अपने, अपने अपने अपने राम।\n",
    "\n",
    "सूरदास के रसिक शिरोमणि, मीरा के नटवर नागर।सूरदास के रसिक शिरोमणि, मीरा के नटवर नागर। वाल्मीकि तुलसी कंबन के,अपने अपने अपने राम।वाल्मीकि तुलसी कंबन के,अपने अपने अपने राम।अपने अपने अपने अपने, अपने अपने अपने राम।\n",
    "\n",
    "हाथ अगर जुड़ कर रहते हैं, तो प्रणाम बन जाते हैं।हाथ अगर जुड़ कर रहते हैं, तो प्रणाम बन जाते हैं। संकल्पों की पुण्य वेदी पर, सभी काम बन जाते हैं।संकल्पों की पुण्य वेदी पर, सभी काम बन जाते हैं।\n",
    "\n",
    "अगर आत्मा रहे निरंतर मन के मानस के संग में।अगर आत्मा रहे निरंतर मन के मानस के संग में। तो पर पीड़ा पीने वाले स्वयं राम बन जाते हैं।तो पर पीड़ा पीने वाले स्वयं राम बन जाते हैं।अपने अपने अपने अपने, अपने अपने अपने राम।\n",
    "\n",
    "जब जब घीरे अंधेरे गहरे,हमने तुम्हें पुकारा राम।जब जब घीरे अंधेरे गहरे,हमने तुम्हें पुकारा राम। एक तुम्हारे होने भर से, जग भर में उजियारा राम।एक तुम्हारे होने भर से, जग भर में उजियारा राम।\n",
    "\n",
    "धन दौलत कि या ताकत की, जिन पर लंका है उनके।धन दौलत कि या ताकत की, जिन पर लंका है उनके। होंगे लाख सहारे अपना, केवल एक सहारा राम।होंगे लाख सहारे अपना, केवल एक सहारा राम।अपने अपने अपने अपने, अपने अपने अपने राम।अपने अपने अपने अपने, अपने अपने अपने राम।\"\"\")\n",
    "\n",
    "print(poem)"
   ]
  },
  {
   "cell_type": "code",
   "execution_count": null,
   "metadata": {},
   "outputs": [],
   "source": []
  }
 ],
 "metadata": {
  "kernelspec": {
   "display_name": "base",
   "language": "python",
   "name": "python3"
  },
  "language_info": {
   "codemirror_mode": {
    "name": "ipython",
    "version": 3
   },
   "file_extension": ".py",
   "mimetype": "text/x-python",
   "name": "python",
   "nbconvert_exporter": "python",
   "pygments_lexer": "ipython3",
   "version": "3.12.9"
  }
 },
 "nbformat": 4,
 "nbformat_minor": 2
}
